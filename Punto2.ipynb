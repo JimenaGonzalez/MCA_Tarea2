{
 "metadata": {
  "name": ""
 },
 "nbformat": 3,
 "nbformat_minor": 0,
 "worksheets": [
  {
   "cells": [
    {
     "cell_type": "code",
     "collapsed": false,
     "input": [
      "from sklearn.ensemble import RandomForestClassifier\n",
      "from sklearn.cluster import KMeans\n",
      "from sklearn.decomposition import PCA\n",
      "from sklearn.cross_validation import train_test_split\n",
      "from sklearn import preprocessing\n",
      "from sklearn.metrics import confusion_matrix\n",
      "from sklearn import datasets\n",
      "import matplotlib.pyplot as plt\n",
      "import numpy as np\n",
      "import urllib\n",
      "import pandas\n",
      "%matplotlib inline\n"
     ],
     "language": "python",
     "metadata": {},
     "outputs": [],
     "prompt_number": 8
    },
    {
     "cell_type": "markdown",
     "metadata": {},
     "source": [
      "PREPARACION DATOS"
     ]
    },
    {
     "cell_type": "code",
     "collapsed": false,
     "input": [
      "# 1. CARGUE DE DATOS\n",
      "# URL for the Pima Indians Diabetes dataset (UCI Machine Learning Repository)\n",
      "url = \"http://archive.ics.uci.edu/ml/machine-learning-databases/wine/wine.data\"\n",
      "# download the file\n",
      "raw_data = urllib.urlopen(url)\n",
      "\n",
      "# load the CSV file as a numpy matrix\n",
      "dataset = np.loadtxt(raw_data, delimiter=\",\")\n",
      "target =[int(x[0]) for x in dataset]\n",
      "dataset = [x[1:] for x in dataset]\n",
      "X =dataset\n",
      "Y =np.int_(target)\n",
      "\n",
      "#2. ESTANDARIZA LOS DATOS\n",
      "X = preprocessing.scale(dataset)\n",
      "\n",
      "#3. CREA LAS COLECCIONES DE ENTRENAMIENTO (70%) y PRUEBA(30%)\n",
      "traintX, testX, traintY, testY = train_test_split(X,Y,test_size=0.3, train_size=0.7)\n",
      "\n",
      "print len(traintX), len(traintY)\n",
      "print len(testX), len(testY)"
     ],
     "language": "python",
     "metadata": {},
     "outputs": [
      {
       "output_type": "stream",
       "stream": "stdout",
       "text": [
        "124 124\n",
        "54 54\n"
       ]
      }
     ],
     "prompt_number": 9
    },
    {
     "cell_type": "markdown",
     "metadata": {},
     "source": [
      "2. RANDOM FOREST"
     ]
    },
    {
     "cell_type": "markdown",
     "metadata": {},
     "source": [
      "Para implemetar el metodo de clasificacion por random-forest se incluyen todas las variables"
     ]
    },
    {
     "cell_type": "code",
     "collapsed": false,
     "input": [
      "\n",
      "#4. ENTORNO PARA GRAFICAR\n",
      "\n",
      "from collections import OrderedDict\n",
      "RandomSqrt=RandomForestClassifier(warm_start=True, oob_score=True, max_features=\"sqrt\")\n",
      "Randomlog2=RandomForestClassifier(warm_start=True, oob_score=True, max_features='log2')\n",
      "RandomNone=RandomForestClassifier(warm_start=True, oob_score=True, max_features=None)\n",
      "                               \n",
      "arreglo = [\n",
      "    (\"RandomForestClassifier, max_features='sqrt'\",RandomSqrt),        \n",
      "    (\"RandomForestClassifier, max_features='log2'\",Randomlog2),       \n",
      "    (\"RandomForestClassifier, max_features=None\"  ,RandomNone)\n",
      "]\n",
      "# Parejas (Etiqueta, tasa de error, estimacion)\n",
      "\n",
      "tasa_error = OrderedDict((label, []) for label, _ in arreglo)\n",
      "estimacion = OrderedDict((label, []) for label, _ in arreglo)\n",
      "\n",
      "#5. EVALUACION DE No ESTIMADORES\n",
      "min_estimators= 1\n",
      "max_estimators = 200\n",
      "\n",
      "for label, rf in arreglo:\n",
      "    for i in range(min_estimators, max_estimators + 1):\n",
      "        rf.set_params(n_estimators=i)\n",
      "        rf.fit(traintX, traintY)\n",
      "        # Adicionar el error de cada estimador\n",
      "        error_ob = 1 - rf.oob_score\n",
      "        tasa_error[label].append((i, error_ob))\n",
      "        prediction = rf.predict(testX)\n",
      "        #M = confusion_matrix(testY, prediction, labels=None) \n",
      "        valor = rf.score(testX,testY)\n",
      "        estimacion[label].append((i, valor)) \n",
      "   "
     ],
     "language": "python",
     "metadata": {},
     "outputs": [],
     "prompt_number": 14
    },
    {
     "cell_type": "code",
     "collapsed": false,
     "input": [
      "# Grafica errores\n",
      "for label, clf_err in tasa_error.items():\n",
      "    xs, ys = zip(*clf_err)\n",
      "    plt.plot(xs, ys, label=label)\n",
      "\n",
      "plt.xlim(min_estimators, max_estimators)\n",
      "plt.xlabel(\"No estimadores\")\n",
      "plt.ylabel(\"tasa de error_oob\")\n",
      "plt.legend(loc=\"upper right\")\n",
      "plt.show()\n",
      "\n"
     ],
     "language": "python",
     "metadata": {},
     "outputs": [
      {
       "metadata": {},
       "output_type": "display_data",
       "png": "[encoded data removed]",
       "text": [
        "<matplotlib.figure.Figure at 0x7f3bd0111450>"
       ]
      }
     ],
     "prompt_number": 15
    },
    {
     "cell_type": "markdown",
     "metadata": {},
     "source": [
      "Analizado la tasa de error vs el numero de estimadores se aprecia que el error no depende ni del numero de variables, ni del numero de estimadores."
     ]
    },
    {
     "cell_type": "code",
     "collapsed": false,
     "input": [
      "# Grafica exactitud\n",
      "for label, clf_err in estimacion.items():\n",
      "    xs, ys = zip(*clf_err)\n",
      "    plt.plot(xs, ys, label=label)\n",
      "\n",
      "plt.xlim(min_estimators, max_estimators)\n",
      "plt.xlabel(\"No estimadores\")\n",
      "plt.ylabel(\"Presicion Media\")\n",
      "\n",
      "plt.legend(loc=\"lower right\")\n",
      "plt.ylim(0.90,1.01)\n",
      "plt.xlim(0.0,140)\n",
      "plt.show()\n",
      "print "
     ],
     "language": "python",
     "metadata": {},
     "outputs": [
      {
       "metadata": {},
       "output_type": "display_data",
       "png": "[encoded data removed]",
       "text": [
        "<matplotlib.figure.Figure at 0x7f3bd0070490>"
       ]
      },
      {
       "output_type": "stream",
       "stream": "stdout",
       "text": [
        "\n"
       ]
      }
     ],
     "prompt_number": 16
    },
    {
     "cell_type": "markdown",
     "metadata": {},
     "source": [
      "Analizando la grafica de la presicion media vs el numero de estimadores,se puede observar que el mejor comportamiento se presenta cuando se incluyen la raiz cuadrada o el logaritmo de las caracteristicas. Igualmente se puede apreciar que con menos estimadores la mejor aproximacion es optima para el logaritmo de las carcateristicas."
     ]
    },
    {
     "cell_type": "code",
     "collapsed": false,
     "input": [
      "for label, clf_err in estimacion.items():\n",
      "    xs, ys = zip(*clf_err)\n",
      "    plt.plot(xs, ys, label=label)\n",
      "plt.xlim(min_estimators, max_estimators)\n",
      "plt.xlabel(\"No estimadores\")\n",
      "plt.ylabel(\"PrecisionMedia\")\n",
      "\n",
      "plt.legend(loc=\"lower right\")\n",
      "plt.ylim(0.90,1.01)\n",
      "plt.xlim(0.0,10)\n",
      "plt.show()"
     ],
     "language": "python",
     "metadata": {},
     "outputs": [
      {
       "metadata": {},
       "output_type": "display_data",
       "png": "[encoded data removed]",
       "text": [
        "<matplotlib.figure.Figure at 0x7f3bd011e090>"
       ]
      }
     ],
     "prompt_number": 17
    },
    {
     "cell_type": "markdown",
     "metadata": {},
     "source": [
      "Ampliando la grafica anterior, se puede observar que incluyendo el logaritmo de las carcateristicas y 4 estimadores o arboles\n",
      "se obtiene una aproximacion media de mas del 96% "
     ]
    },
    {
     "cell_type": "markdown",
     "metadata": {},
     "source": [
      "PCA"
     ]
    },
    {
     "cell_type": "code",
     "collapsed": false,
     "input": [
      "n_components=12\n",
      "K= np.arange(0, n_components, 1)\n",
      "suma=0.0\n",
      "SUM = np.zeros(n_components)\n",
      "pca = PCA(n_components)\n",
      "pca.fit(traintX, traintY)\n",
      "#pca.transform(x)\n",
      "PVE=pca.explained_variance_ratio_\n",
      "for i in range(0,n_components):\n",
      "  suma=suma+PVE[i]\n",
      "  SUM[i]=suma\n",
      "\n",
      "plt.scatter(K,SUM,color='black')\n",
      "plt.plot(K,SUM,color='red')\n",
      "plt.xlabel(\"components\")\n",
      "plt.ylabel(\"explained_variance_ratio Acumulada\")\n",
      "print SUM"
     ],
     "language": "python",
     "metadata": {},
     "outputs": [
      {
       "output_type": "stream",
       "stream": "stdout",
       "text": [
        "[ 0.3622469   0.55658877  0.68256916  0.74968137  0.80652445  0.85634912\n",
        "  0.89579814  0.92231109  0.94519652  0.96381343  0.98146775  0.99285761]\n"
       ]
      },
      {
       "metadata": {},
       "output_type": "display_data",
       "png": "[encoded data removed]",
       "text": [
        "<matplotlib.figure.Figure at 0x7f3bd06e43d0>"
       ]
      }
     ],
     "prompt_number": 18
    },
    {
     "cell_type": "markdown",
     "metadata": {},
     "source": [
      "Como se puede mirar en la grafica  de explained_variance_ratio Acumulada vs componets, 7 componentes me describen el 90% de los datos."
     ]
    },
    {
     "cell_type": "code",
     "collapsed": false,
     "input": [
      "S=pca.components_\n",
      "teams_list1=[\"1\"+\"C\",\"2\"+\"C\",\"3\"+\"C\",\"4\"+\"C\",\"5\"+\"C\",\"6\"+\"C\",\"7\"+\"C\",\"8\"+\"C\",\"9\"+\"C\",\"10\"+\"C\",\"11\"+\"C\",\"12\"+\"C\"]\n",
      "teams_list2=[1,2,3,4,5,6,7,8,9,10,11,12,13]\n",
      "pandas.DataFrame(S, teams_list1, teams_list2)    \n",
      "\n"
     ],
     "language": "python",
     "metadata": {},
     "outputs": [
      {
       "html": [
        "<div style=\"max-height:1000px;max-width:1500px;overflow:auto;\">\n",
        "<table border=\"1\" class=\"dataframe\">\n",
        "  <thead>\n",
        "    <tr style=\"text-align: right;\">\n",
        "      <th></th>\n",
        "      <th>1</th>\n",
        "      <th>2</th>\n",
        "      <th>3</th>\n",
        "      <th>4</th>\n",
        "      <th>5</th>\n",
        "      <th>6</th>\n",
        "      <th>7</th>\n",
        "      <th>8</th>\n",
        "      <th>9</th>\n",
        "      <th>10</th>\n",
        "      <th>11</th>\n",
        "      <th>12</th>\n",
        "      <th>13</th>\n",
        "    </tr>\n",
        "  </thead>\n",
        "  <tbody>\n",
        "    <tr>\n",
        "      <th>1C</th>\n",
        "      <td> 0.089057</td>\n",
        "      <td>-0.243154</td>\n",
        "      <td>-0.013082</td>\n",
        "      <td>-0.243939</td>\n",
        "      <td> 0.100226</td>\n",
        "      <td> 0.399498</td>\n",
        "      <td> 0.441331</td>\n",
        "      <td>-0.290963</td>\n",
        "      <td> 0.300305</td>\n",
        "      <td>-0.133609</td>\n",
        "      <td> 0.306792</td>\n",
        "      <td> 0.391302</td>\n",
        "      <td> 0.262522</td>\n",
        "    </tr>\n",
        "    <tr>\n",
        "      <th>2C</th>\n",
        "      <td>-0.458396</td>\n",
        "      <td>-0.202556</td>\n",
        "      <td>-0.307305</td>\n",
        "      <td>-0.034426</td>\n",
        "      <td>-0.346221</td>\n",
        "      <td>-0.107375</td>\n",
        "      <td>-0.047027</td>\n",
        "      <td> 0.027270</td>\n",
        "      <td>-0.100072</td>\n",
        "      <td>-0.538739</td>\n",
        "      <td> 0.304842</td>\n",
        "      <td> 0.100315</td>\n",
        "      <td>-0.340034</td>\n",
        "    </tr>\n",
        "    <tr>\n",
        "      <th>3C</th>\n",
        "      <td> 0.209299</td>\n",
        "      <td>-0.008766</td>\n",
        "      <td>-0.634804</td>\n",
        "      <td>-0.611497</td>\n",
        "      <td>-0.151971</td>\n",
        "      <td>-0.101762</td>\n",
        "      <td>-0.122634</td>\n",
        "      <td>-0.180154</td>\n",
        "      <td>-0.085849</td>\n",
        "      <td> 0.162490</td>\n",
        "      <td>-0.157561</td>\n",
        "      <td>-0.150762</td>\n",
        "      <td> 0.130153</td>\n",
        "    </tr>\n",
        "    <tr>\n",
        "      <th>4C</th>\n",
        "      <td>-0.243605</td>\n",
        "      <td> 0.279915</td>\n",
        "      <td>-0.245922</td>\n",
        "      <td> 0.181243</td>\n",
        "      <td> 0.040623</td>\n",
        "      <td> 0.094137</td>\n",
        "      <td> 0.088722</td>\n",
        "      <td>-0.339002</td>\n",
        "      <td> 0.571568</td>\n",
        "      <td> 0.056776</td>\n",
        "      <td>-0.413516</td>\n",
        "      <td> 0.026100</td>\n",
        "      <td>-0.366171</td>\n",
        "    </tr>\n",
        "    <tr>\n",
        "      <th>5C</th>\n",
        "      <td> 0.159800</td>\n",
        "      <td>-0.122069</td>\n",
        "      <td> 0.061706</td>\n",
        "      <td> 0.140471</td>\n",
        "      <td>-0.835897</td>\n",
        "      <td> 0.218384</td>\n",
        "      <td> 0.095588</td>\n",
        "      <td> 0.215294</td>\n",
        "      <td> 0.147255</td>\n",
        "      <td> 0.315104</td>\n",
        "      <td>-0.076682</td>\n",
        "      <td> 0.084240</td>\n",
        "      <td>-0.012976</td>\n",
        "    </tr>\n",
        "    <tr>\n",
        "      <th>6C</th>\n",
        "      <td>-0.214396</td>\n",
        "      <td>-0.488216</td>\n",
        "      <td>-0.167164</td>\n",
        "      <td>-0.033432</td>\n",
        "      <td> 0.256725</td>\n",
        "      <td> 0.031290</td>\n",
        "      <td>-0.061744</td>\n",
        "      <td> 0.466492</td>\n",
        "      <td> 0.450232</td>\n",
        "      <td> 0.242074</td>\n",
        "      <td> 0.137717</td>\n",
        "      <td>-0.343220</td>\n",
        "      <td> 0.015156</td>\n",
        "    </tr>\n",
        "    <tr>\n",
        "      <th>7C</th>\n",
        "      <td> 0.037552</td>\n",
        "      <td>-0.610228</td>\n",
        "      <td>-0.006485</td>\n",
        "      <td> 0.339318</td>\n",
        "      <td> 0.003740</td>\n",
        "      <td>-0.079561</td>\n",
        "      <td> 0.016600</td>\n",
        "      <td>-0.592133</td>\n",
        "      <td>-0.245196</td>\n",
        "      <td> 0.210472</td>\n",
        "      <td>-0.043717</td>\n",
        "      <td>-0.192796</td>\n",
        "      <td>-0.101449</td>\n",
        "    </tr>\n",
        "    <tr>\n",
        "      <th>8C</th>\n",
        "      <td>-0.462678</td>\n",
        "      <td>-0.124800</td>\n",
        "      <td> 0.291308</td>\n",
        "      <td>-0.436841</td>\n",
        "      <td> 0.041118</td>\n",
        "      <td> 0.302384</td>\n",
        "      <td> 0.245676</td>\n",
        "      <td> 0.077553</td>\n",
        "      <td>-0.341616</td>\n",
        "      <td> 0.156334</td>\n",
        "      <td>-0.395448</td>\n",
        "      <td>-0.018323</td>\n",
        "      <td>-0.193157</td>\n",
        "    </tr>\n",
        "    <tr>\n",
        "      <th>9C</th>\n",
        "      <td> 0.331906</td>\n",
        "      <td> 0.167212</td>\n",
        "      <td>-0.197491</td>\n",
        "      <td> 0.043001</td>\n",
        "      <td> 0.166118</td>\n",
        "      <td> 0.436676</td>\n",
        "      <td> 0.106134</td>\n",
        "      <td> 0.092705</td>\n",
        "      <td>-0.221078</td>\n",
        "      <td> 0.161621</td>\n",
        "      <td> 0.356118</td>\n",
        "      <td>-0.141862</td>\n",
        "      <td>-0.600787</td>\n",
        "    </tr>\n",
        "    <tr>\n",
        "      <th>10C</th>\n",
        "      <td>-0.368645</td>\n",
        "      <td> 0.249095</td>\n",
        "      <td>-0.362998</td>\n",
        "      <td> 0.363597</td>\n",
        "      <td>-0.022599</td>\n",
        "      <td> 0.365895</td>\n",
        "      <td> 0.143303</td>\n",
        "      <td> 0.002171</td>\n",
        "      <td>-0.258650</td>\n",
        "      <td> 0.055384</td>\n",
        "      <td> 0.062535</td>\n",
        "      <td>-0.242077</td>\n",
        "      <td> 0.500673</td>\n",
        "    </tr>\n",
        "    <tr>\n",
        "      <th>11C</th>\n",
        "      <td> 0.238655</td>\n",
        "      <td>-0.292365</td>\n",
        "      <td>-0.322156</td>\n",
        "      <td> 0.247619</td>\n",
        "      <td> 0.196210</td>\n",
        "      <td> 0.192972</td>\n",
        "      <td>-0.086412</td>\n",
        "      <td> 0.316269</td>\n",
        "      <td>-0.166730</td>\n",
        "      <td>-0.240058</td>\n",
        "      <td>-0.494790</td>\n",
        "      <td> 0.423037</td>\n",
        "      <td> 0.005739</td>\n",
        "    </tr>\n",
        "    <tr>\n",
        "      <th>12C</th>\n",
        "      <td> 0.224440</td>\n",
        "      <td>-0.068707</td>\n",
        "      <td> 0.210031</td>\n",
        "      <td>-0.080172</td>\n",
        "      <td>-0.109277</td>\n",
        "      <td> 0.404518</td>\n",
        "      <td>-0.204277</td>\n",
        "      <td>-0.095664</td>\n",
        "      <td> 0.142151</td>\n",
        "      <td>-0.551561</td>\n",
        "      <td>-0.189928</td>\n",
        "      <td>-0.551196</td>\n",
        "      <td> 0.059931</td>\n",
        "    </tr>\n",
        "  </tbody>\n",
        "</table>\n",
        "<p>12 rows \u00d7 13 columns</p>\n",
        "</div>"
       ],
       "metadata": {},
       "output_type": "pyout",
       "prompt_number": 20,
       "text": [
        "           1         2         3         4         5         6         7   \\\n",
        "1C   0.089057 -0.243154 -0.013082 -0.243939  0.100226  0.399498  0.441331   \n",
        "2C  -0.458396 -0.202556 -0.307305 -0.034426 -0.346221 -0.107375 -0.047027   \n",
        "3C   0.209299 -0.008766 -0.634804 -0.611497 -0.151971 -0.101762 -0.122634   \n",
        "4C  -0.243605  0.279915 -0.245922  0.181243  0.040623  0.094137  0.088722   \n",
        "5C   0.159800 -0.122069  0.061706  0.140471 -0.835897  0.218384  0.095588   \n",
        "6C  -0.214396 -0.488216 -0.167164 -0.033432  0.256725  0.031290 -0.061744   \n",
        "7C   0.037552 -0.610228 -0.006485  0.339318  0.003740 -0.079561  0.016600   \n",
        "8C  -0.462678 -0.124800  0.291308 -0.436841  0.041118  0.302384  0.245676   \n",
        "9C   0.331906  0.167212 -0.197491  0.043001  0.166118  0.436676  0.106134   \n",
        "10C -0.368645  0.249095 -0.362998  0.363597 -0.022599  0.365895  0.143303   \n",
        "11C  0.238655 -0.292365 -0.322156  0.247619  0.196210  0.192972 -0.086412   \n",
        "12C  0.224440 -0.068707  0.210031 -0.080172 -0.109277  0.404518 -0.204277   \n",
        "\n",
        "           8         9         10        11        12        13  \n",
        "1C  -0.290963  0.300305 -0.133609  0.306792  0.391302  0.262522  \n",
        "2C   0.027270 -0.100072 -0.538739  0.304842  0.100315 -0.340034  \n",
        "3C  -0.180154 -0.085849  0.162490 -0.157561 -0.150762  0.130153  \n",
        "4C  -0.339002  0.571568  0.056776 -0.413516  0.026100 -0.366171  \n",
        "5C   0.215294  0.147255  0.315104 -0.076682  0.084240 -0.012976  \n",
        "6C   0.466492  0.450232  0.242074  0.137717 -0.343220  0.015156  \n",
        "7C  -0.592133 -0.245196  0.210472 -0.043717 -0.192796 -0.101449  \n",
        "8C   0.077553 -0.341616  0.156334 -0.395448 -0.018323 -0.193157  \n",
        "9C   0.092705 -0.221078  0.161621  0.356118 -0.141862 -0.600787  \n",
        "10C  0.002171 -0.258650  0.055384  0.062535 -0.242077  0.500673  \n",
        "11C  0.316269 -0.166730 -0.240058 -0.494790  0.423037  0.005739  \n",
        "12C -0.095664  0.142151 -0.551561 -0.189928 -0.551196  0.059931  \n",
        "\n",
        "[12 rows x 13 columns]"
       ]
      }
     ],
     "prompt_number": 20
    },
    {
     "cell_type": "markdown",
     "metadata": {},
     "source": [
      "La tabla que se enecutra arriba indica el valor porcentual de lo que aporta cada variable (vinos) a cada componente.\n",
      "De esta manera los elementos 7,6,11,12 y 12 describen en su mayoria la primera componente"
     ]
    },
    {
     "cell_type": "markdown",
     "metadata": {},
     "source": [
      "K-MEANS\n"
     ]
    },
    {
     "cell_type": "code",
     "collapsed": false,
     "input": [
      "n_clusters=4\n",
      "#d = KMeans.inertia_\n",
      "#kMeansVar = [KMeans(n_clusters=k).fit(x)for k in range(1, n)]\n",
      "kmeans = KMeans(n_clusters)\n",
      "kmeans.fit(traintX, traintY)\n",
      "labels = kmeans.labels_\n",
      "centroids = kmeans.cluster_centers_\n",
      "\n",
      "for i in range(n_clusters):\n",
      "    # select only data observations with cluster label == i\n",
      "    ds = traintX[np.where(labels==i)]\n",
      "    # plot the data observations\n",
      "    plt.plot(ds[:,0],ds[:,1],'o')\n",
      "    # plot the centroids\n",
      "    lines = plt.plot(centroids[i,0],centroids[i,1],'kx')\n",
      "    # make the centroid x's bigger\n",
      "    plt.setp(lines,ms=15.0)\n",
      "    plt.setp(lines,mew=2.0)\n",
      "plt.xlabel(\"Case1\")\n",
      "plt.ylabel(\"Clase2\")    "
     ],
     "language": "python",
     "metadata": {},
     "outputs": [
      {
       "metadata": {},
       "output_type": "pyout",
       "prompt_number": 21,
       "text": [
        "<matplotlib.text.Text at 0x7f3c0364d0d0>"
       ]
      },
      {
       "metadata": {},
       "output_type": "display_data",
       "png": "[encoded data removed]",
       "text": [
        "<matplotlib.figure.Figure at 0x7f3bd06dca90>"
       ]
      }
     ],
     "prompt_number": 21
    },
    {
     "cell_type": "code",
     "collapsed": false,
     "input": [
      "n_clusters=15\n",
      "scoreR = np.zeros(n_clusters)\n",
      "inerciaR = np.zeros(n_clusters)\n",
      "cluster= np.arange(0, n_clusters, 1)\n",
      "\n",
      "for i in range(1, n_clusters):\n",
      "    kmeans = KMeans(i)\n",
      "    kmeans.fit(traintX, traintY)\n",
      "    labels = kmeans.labels_\n",
      "    centroids = kmeans.cluster_centers_\n",
      "    scoreR[i] = kmeans.score(traintX, traintY) \n",
      "    inerciaR[i] = kmeans.inertia_ \n",
      "print inerciaR, cluster\n",
      "plt.xlim(1, n_clusters)\n",
      "plt.xlabel(\"No cluster\")\n",
      "plt.ylabel(\"score\")\n",
      "#plt.legend(loc=\"upper right\")\n",
      "plt.scatter(cluster,inerciaR)\n",
      "plt.show()\n"
     ],
     "language": "python",
     "metadata": {},
     "outputs": [
      {
       "output_type": "stream",
       "stream": "stdout",
       "text": [
        "[    0.          1622.53387569  1140.79265064   898.95644823   818.54542627\n",
        "   754.88432872   717.90719539   665.63425342   626.19628922   604.38815596\n",
        "   571.03981954   553.89015261   530.13230136   505.56904191   487.31158613] [ 0  1  2  3  4  5  6  7  8  9 10 11 12 13 14]\n"
       ]
      },
      {
       "metadata": {},
       "output_type": "display_data",
       "png": "[encoded data removed]",
       "text": [
        "<matplotlib.figure.Figure at 0x7f3bd0162e50>"
       ]
      }
     ],
     "prompt_number": 22
    },
    {
     "cell_type": "markdown",
     "metadata": {},
     "source": [
      "La grafica scrore vs Numero de clusters nos indica que desde aproximadamente, con 3 clusters el comportamiento es similar, de esta manera el numero optimo es 3 clusters"
     ]
    },
    {
     "cell_type": "markdown",
     "metadata": {},
     "source": [
      "OPTIMIZACION DE METODOS"
     ]
    },
    {
     "cell_type": "code",
     "collapsed": false,
     "input": [
      "#Disminucion dimensionalidad\n",
      "n_components=7\n",
      "pca = PCA(n_components)\n",
      "pca.fit(dataset)\n",
      "Aux = pca.transform(dataset)\n",
      "X = preprocessing.scale(Aux)\n",
      "traintX, testX, traintY, testY = train_test_split(X,Y,test_size=0.3, train_size=0.7)\n"
     ],
     "language": "python",
     "metadata": {},
     "outputs": [],
     "prompt_number": 23
    },
    {
     "cell_type": "markdown",
     "metadata": {},
     "source": [
      "PCA sera aplicado para disminuir la dimensionalidad de los datos, luego se implementa k-Means y RandomForest para ver cual de los dos metodos es mas optimo. Teniendo en cuanta los analisis anteriores, para K-Means el que pdoria dar mejor resultado es con 3 cluster y para RandomForest con 4 estimadores y con el logaritmo de las carcateristicas"
     ]
    },
    {
     "cell_type": "code",
     "collapsed": false,
     "input": [
      "from sklearn.metrics import classification_report\n",
      "\n",
      "#tabala clustering\n",
      "n_clusters=3\n",
      "kmeans = KMeans(n_clusters)\n",
      "kmeans.fit(traintX, traintY)\n",
      "prediction = kmeans.predict(testX)\n",
      "print(classification_report(testY, prediction))\n",
      "\n"
     ],
     "language": "python",
     "metadata": {},
     "outputs": [
      {
       "output_type": "stream",
       "stream": "stdout",
       "text": [
        "             precision    recall  f1-score   support\n",
        "\n",
        "          0       0.00      0.00      0.00         0\n",
        "          1       0.86      1.00      0.92        12\n",
        "          2       0.05      0.04      0.05        24\n",
        "          3       0.00      0.00      0.00        18\n",
        "\n",
        "avg / total       0.21      0.24      0.23        54\n",
        "\n"
       ]
      },
      {
       "output_type": "stream",
       "stream": "stderr",
       "text": [
        "/usr/local/lib/python2.7/dist-packages/sklearn/metrics/classification.py:1074: UndefinedMetricWarning: Precision and F-score are ill-defined and being set to 0.0 in labels with no predicted samples.\n",
        "  'precision', 'predicted', average, warn_for)\n",
        "/usr/local/lib/python2.7/dist-packages/sklearn/metrics/classification.py:1076: UndefinedMetricWarning: Recall and F-score are ill-defined and being set to 0.0 in labels with no true samples.\n",
        "  'recall', 'true', average, warn_for)\n"
       ]
      }
     ],
     "prompt_number": 24
    },
    {
     "cell_type": "code",
     "collapsed": false,
     "input": [
      "#tabala random forest\n",
      "rf1=RandomForestClassifier(warm_start=True, max_features=\"log2\", n_estimators=4)\n",
      "rf1.fit(traintX, traintY)\n",
      "prediction = rf1.predict(testX)\n",
      "print(classification_report(testY, prediction))"
     ],
     "language": "python",
     "metadata": {},
     "outputs": [
      {
       "output_type": "stream",
       "stream": "stdout",
       "text": [
        "             precision    recall  f1-score   support\n",
        "\n",
        "          1       0.86      1.00      0.92        12\n",
        "          2       0.82      0.96      0.88        24\n",
        "          3       1.00      0.67      0.80        18\n",
        "\n",
        "avg / total       0.89      0.87      0.86        54\n",
        "\n"
       ]
      }
     ],
     "prompt_number": 25
    },
    {
     "cell_type": "markdown",
     "metadata": {},
     "source": [
      "Las dos tablas anteriores nos arrojan informacion sobre cual fue la precicion para cada clase (en cada metodo), podemos ver que la primera solo es precisa para las clases 1 y 2. Podemos concluir que Random Forest es superior a k-Means en cuanto a que la preciscion de cada clase y  total de la misma es mucho mayor"
     ]
    }
   ],
   "metadata": {}
  }
 ]
}